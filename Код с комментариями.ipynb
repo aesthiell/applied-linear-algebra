{
 "cells": [
  {
   "cell_type": "markdown",
   "metadata": {
    "id": "68ByPYgDP0mZ"
   },
   "source": [
    "**Руслан Мухамедьяров**\n",
    "\n",
    "**Вариант 30**\n",
    "\n"
   ]
  },
  {
   "cell_type": "code",
   "execution_count": null,
   "metadata": {
    "id": "tCT4jP2nyXys"
   },
   "outputs": [],
   "source": [
    "import numpy as np\n",
    "import matplotlib.pyplot as plt\n",
    "from sympy import *"
   ]
  },
  {
   "cell_type": "markdown",
   "metadata": {
    "id": "ty08G8XR7jt1"
   },
   "source": [
    "##Задание 1"
   ]
  },
  {
   "cell_type": "code",
   "execution_count": null,
   "metadata": {
    "id": "sh-TVkxbym3F"
   },
   "outputs": [],
   "source": [
    "#дана матрица A\n",
    "A = Matrix([[-2, -1, 11],\n",
    "             [3, 4, -9],\n",
    "             [4, 5, -13],\n",
    "             [-1, 0, 7]]\n",
    "             )"
   ]
  },
  {
   "cell_type": "code",
   "execution_count": null,
   "metadata": {
    "id": "8wNBx_VRz8G1"
   },
   "outputs": [],
   "source": [
    "#приводим A в RREF\n",
    "A_rref = A.rref()"
   ]
  },
  {
   "cell_type": "code",
   "execution_count": null,
   "metadata": {
    "colab": {
     "base_uri": "https://localhost:8080/"
    },
    "id": "yvyKHbM-ynz7",
    "outputId": "8cbdcb08-d18e-43d4-d643-86f824bde7f7"
   },
   "outputs": [
    {
     "data": {
      "text/plain": [
       "(Matrix([\n",
       " [1, 0, -7],\n",
       " [0, 1,  3],\n",
       " [0, 0,  0],\n",
       " [0, 0,  0]]), (0, 1))"
      ]
     },
     "execution_count": 4,
     "metadata": {},
     "output_type": "execute_result"
    }
   ],
   "source": [
    "A_rref"
   ]
  },
  {
   "cell_type": "markdown",
   "metadata": {
    "id": "BJd8hM__aw0a"
   },
   "source": [
    "На основе ненулевой подматрицы и столбцов с пивотами производим скелетное разложение A = F * G, где у F полный столбцовый ранг, у G полный строчный"
   ]
  },
  {
   "cell_type": "code",
   "execution_count": null,
   "metadata": {
    "id": "vRvQ0W9HyoM7"
   },
   "outputs": [],
   "source": [
    "F = A[:,:2]"
   ]
  },
  {
   "cell_type": "code",
   "execution_count": null,
   "metadata": {
    "colab": {
     "base_uri": "https://localhost:8080/",
     "height": 98
    },
    "id": "rcBPc68A4TNr",
    "outputId": "d109b8a3-c66c-4d43-f140-403a2cfdfbe5"
   },
   "outputs": [
    {
     "data": {
      "text/latex": [
       "$\\displaystyle \\left[\\begin{matrix}-2 & -1\\\\3 & 4\\\\4 & 5\\\\-1 & 0\\end{matrix}\\right]$"
      ],
      "text/plain": [
       "Matrix([\n",
       "[-2, -1],\n",
       "[ 3,  4],\n",
       "[ 4,  5],\n",
       "[-1,  0]])"
      ]
     },
     "execution_count": 6,
     "metadata": {},
     "output_type": "execute_result"
    }
   ],
   "source": [
    "F"
   ]
  },
  {
   "cell_type": "code",
   "execution_count": null,
   "metadata": {
    "id": "lCBAn6nyyoZo"
   },
   "outputs": [],
   "source": [
    "G = A_rref[0][:2,:]"
   ]
  },
  {
   "cell_type": "code",
   "execution_count": null,
   "metadata": {
    "colab": {
     "base_uri": "https://localhost:8080/",
     "height": 58
    },
    "id": "xN2ZRP9LyolM",
    "outputId": "123cf52d-2078-4419-c88a-cbebc455d6a0"
   },
   "outputs": [
    {
     "data": {
      "text/latex": [
       "$\\displaystyle \\left[\\begin{matrix}1 & 0 & -7\\\\0 & 1 & 3\\end{matrix}\\right]$"
      ],
      "text/plain": [
       "Matrix([\n",
       "[1, 0, -7],\n",
       "[0, 1,  3]])"
      ]
     },
     "execution_count": 8,
     "metadata": {},
     "output_type": "execute_result"
    }
   ],
   "source": [
    "G"
   ]
  },
  {
   "cell_type": "code",
   "execution_count": null,
   "metadata": {
    "colab": {
     "base_uri": "https://localhost:8080/"
    },
    "id": "PJDsRfGZ5sWf",
    "outputId": "bf90392c-080a-454c-9410-8a39ad70a8e1"
   },
   "outputs": [
    {
     "data": {
      "text/plain": [
       "True"
      ]
     },
     "execution_count": 9,
     "metadata": {},
     "output_type": "execute_result"
    }
   ],
   "source": [
    "#Проверяем\n",
    "A == F*G"
   ]
  },
  {
   "cell_type": "markdown",
   "metadata": {
    "id": "t72RB5LUch5K"
   },
   "source": [
    "Находим псевдообратную F и псевдообратную G, из них находим псевдообратную A"
   ]
  },
  {
   "cell_type": "code",
   "execution_count": null,
   "metadata": {
    "id": "_xvzD4cd4Gao"
   },
   "outputs": [],
   "source": [
    "F_pseudoinverse = Inverse(F.T*F)*F.T"
   ]
  },
  {
   "cell_type": "code",
   "execution_count": null,
   "metadata": {
    "id": "R_aL-quW4G3o"
   },
   "outputs": [],
   "source": [
    "G_pseudoinverse = G.T*Inverse(G*G.T)"
   ]
  },
  {
   "cell_type": "code",
   "execution_count": null,
   "metadata": {
    "id": "Yuz_XwgA4HMZ"
   },
   "outputs": [],
   "source": [
    "A_pseudoinverse = G_pseudoinverse*F_pseudoinverse"
   ]
  },
  {
   "cell_type": "code",
   "execution_count": null,
   "metadata": {
    "colab": {
     "base_uri": "https://localhost:8080/",
     "height": 78
    },
    "id": "KXQaSwhi4HZo",
    "outputId": "492bb272-7559-450b-b2c3-9e8615cd4fda"
   },
   "outputs": [
    {
     "data": {
      "text/latex": [
       "$\\displaystyle \\left[\\begin{matrix}\\frac{149}{3068} & \\frac{139}{3068} & \\frac{137}{3068} & \\frac{147}{3068}\\\\\\frac{425}{3068} & \\frac{345}{3068} & \\frac{329}{3068} & \\frac{409}{3068}\\\\\\frac{58}{767} & \\frac{31}{1534} & \\frac{7}{767} & \\frac{99}{1534}\\end{matrix}\\right]$"
      ],
      "text/plain": [
       "Matrix([\n",
       "[149/3068, 139/3068, 137/3068, 147/3068],\n",
       "[425/3068, 345/3068, 329/3068, 409/3068],\n",
       "[  58/767,  31/1534,    7/767,  99/1534]])"
      ]
     },
     "execution_count": 13,
     "metadata": {},
     "output_type": "execute_result"
    }
   ],
   "source": [
    "A_pseudoinverse"
   ]
  },
  {
   "cell_type": "code",
   "execution_count": null,
   "metadata": {
    "id": "E4QL_eNS6lor"
   },
   "outputs": [],
   "source": [
    "#функция для округления\n",
    "def round_expr(expr, num_digits):\n",
    "    return expr.xreplace({n : round(n, num_digits) for n in expr.atoms(Number)})"
   ]
  },
  {
   "cell_type": "markdown",
   "metadata": {
    "id": "M9xLybP8m14w"
   },
   "source": [
    "Псевдообратная A"
   ]
  },
  {
   "cell_type": "code",
   "execution_count": null,
   "metadata": {
    "colab": {
     "base_uri": "https://localhost:8080/",
     "height": 78
    },
    "id": "U2A66XLX6nSS",
    "outputId": "91ef70f6-12b0-4b22-e91a-55549b5991ce"
   },
   "outputs": [
    {
     "data": {
      "text/latex": [
       "$\\displaystyle \\left[\\begin{matrix}0.0486 & 0.0453 & 0.0447 & 0.0479\\\\0.1385 & 0.1125 & 0.1072 & 0.1333\\\\0.0756 & 0.0202 & 0.0091 & 0.0645\\end{matrix}\\right]$"
      ],
      "text/plain": [
       "Matrix([\n",
       "[0.0486, 0.0453, 0.0447, 0.0479],\n",
       "[0.1385, 0.1125, 0.1072, 0.1333],\n",
       "[0.0756, 0.0202, 0.0091, 0.0645]])"
      ]
     },
     "execution_count": 15,
     "metadata": {},
     "output_type": "execute_result"
    }
   ],
   "source": [
    "round_expr(A_pseudoinverse,4)"
   ]
  },
  {
   "cell_type": "markdown",
   "metadata": {
    "id": "vxyfXEQH7z0I"
   },
   "source": [
    "##Задание 2"
   ]
  },
  {
   "cell_type": "markdown",
   "metadata": {
    "id": "xrPiz28ZnN2e"
   },
   "source": [
    "Дано Ax=y\n",
    "\n",
    "Тогда решением наименьшей длины является x = A_псевдообратная * y\n",
    "\n",
    "Находим псевдообратную A по вышеиспользованному алгоритму"
   ]
  },
  {
   "cell_type": "code",
   "execution_count": null,
   "metadata": {
    "id": "rbrXtLdt9fsY"
   },
   "outputs": [],
   "source": [
    "A = Matrix([[-4, -6, 11, 13],\n",
    "             [1, -1, 8, -10],\n",
    "             [-3, -5, 9, 7],\n",
    "             [2, 0, 8, -14]]\n",
    "             )"
   ]
  },
  {
   "cell_type": "code",
   "execution_count": null,
   "metadata": {
    "id": "IIpprHeX9fsZ"
   },
   "outputs": [],
   "source": [
    "A_rref = A.rref()"
   ]
  },
  {
   "cell_type": "code",
   "execution_count": null,
   "metadata": {
    "colab": {
     "base_uri": "https://localhost:8080/"
    },
    "id": "f4fEJYL-9fsZ",
    "outputId": "730d8e07-0e40-434c-997a-a7a27b4b6b95"
   },
   "outputs": [
    {
     "data": {
      "text/plain": [
       "(Matrix([\n",
       " [1, 0, 0, -11],\n",
       " [0, 1, 0,   7],\n",
       " [0, 0, 1,   1],\n",
       " [0, 0, 0,   0]]), (0, 1, 2))"
      ]
     },
     "execution_count": 18,
     "metadata": {},
     "output_type": "execute_result"
    }
   ],
   "source": [
    "A_rref"
   ]
  },
  {
   "cell_type": "code",
   "execution_count": null,
   "metadata": {
    "id": "wRatf9EM9fsZ"
   },
   "outputs": [],
   "source": [
    "F = A[:,:3]"
   ]
  },
  {
   "cell_type": "code",
   "execution_count": null,
   "metadata": {
    "colab": {
     "base_uri": "https://localhost:8080/",
     "height": 98
    },
    "id": "h-xhqfeP9fsa",
    "outputId": "fbcce3cb-b95d-44ef-f7b4-0323c8d17b46"
   },
   "outputs": [
    {
     "data": {
      "text/latex": [
       "$\\displaystyle \\left[\\begin{matrix}-4 & -6 & 11\\\\1 & -1 & 8\\\\-3 & -5 & 9\\\\2 & 0 & 8\\end{matrix}\\right]$"
      ],
      "text/plain": [
       "Matrix([\n",
       "[-4, -6, 11],\n",
       "[ 1, -1,  8],\n",
       "[-3, -5,  9],\n",
       "[ 2,  0,  8]])"
      ]
     },
     "execution_count": 20,
     "metadata": {},
     "output_type": "execute_result"
    }
   ],
   "source": [
    "F"
   ]
  },
  {
   "cell_type": "code",
   "execution_count": null,
   "metadata": {
    "id": "uNgl_0QC9fsa"
   },
   "outputs": [],
   "source": [
    "G = A_rref[0][:3,:]"
   ]
  },
  {
   "cell_type": "code",
   "execution_count": null,
   "metadata": {
    "colab": {
     "base_uri": "https://localhost:8080/",
     "height": 78
    },
    "id": "srdaKK569fsb",
    "outputId": "cec5a81d-7bf4-4a4a-9759-26d959b30886"
   },
   "outputs": [
    {
     "data": {
      "text/latex": [
       "$\\displaystyle \\left[\\begin{matrix}1 & 0 & 0 & -11\\\\0 & 1 & 0 & 7\\\\0 & 0 & 1 & 1\\end{matrix}\\right]$"
      ],
      "text/plain": [
       "Matrix([\n",
       "[1, 0, 0, -11],\n",
       "[0, 1, 0,   7],\n",
       "[0, 0, 1,   1]])"
      ]
     },
     "execution_count": 22,
     "metadata": {},
     "output_type": "execute_result"
    }
   ],
   "source": [
    "G"
   ]
  },
  {
   "cell_type": "code",
   "execution_count": null,
   "metadata": {
    "colab": {
     "base_uri": "https://localhost:8080/"
    },
    "id": "brdt8kyr9fsb",
    "outputId": "14e30b40-23c3-489a-fc71-c1fe0f93de31"
   },
   "outputs": [
    {
     "data": {
      "text/plain": [
       "True"
      ]
     },
     "execution_count": 23,
     "metadata": {},
     "output_type": "execute_result"
    }
   ],
   "source": [
    "A == F*G"
   ]
  },
  {
   "cell_type": "code",
   "execution_count": null,
   "metadata": {
    "id": "vHZmADal9fsb"
   },
   "outputs": [],
   "source": [
    "F_pseudoinverse = Inverse(F.T*F)*F.T"
   ]
  },
  {
   "cell_type": "code",
   "execution_count": null,
   "metadata": {
    "id": "TGrpZi819fsb"
   },
   "outputs": [],
   "source": [
    "G_pseudoinverse = G.T*Inverse(G*G.T)"
   ]
  },
  {
   "cell_type": "code",
   "execution_count": null,
   "metadata": {
    "id": "u5Fgj_Kj9fsc"
   },
   "outputs": [],
   "source": [
    "A_pseudoinverse = G_pseudoinverse*F_pseudoinverse"
   ]
  },
  {
   "cell_type": "code",
   "execution_count": null,
   "metadata": {
    "colab": {
     "base_uri": "https://localhost:8080/",
     "height": 99
    },
    "id": "rb6MKBq29fsc",
    "outputId": "c98fd716-c2c3-4afc-bb4c-0ab74a2b64d5"
   },
   "outputs": [
    {
     "data": {
      "text/latex": [
       "$\\displaystyle \\left[\\begin{matrix}\\frac{9881}{24080} & - \\frac{2351}{24080} & - \\frac{13543}{24080} & \\frac{599}{3440}\\\\\\frac{15259}{24080} & - \\frac{3789}{24080} & - \\frac{20997}{24080} & \\frac{901}{3440}\\\\\\frac{1495}{4816} & - \\frac{209}{4816} & - \\frac{1713}{4816} & \\frac{97}{688}\\\\\\frac{5597}{24080} & - \\frac{1707}{24080} & - \\frac{6571}{24080} & \\frac{203}{3440}\\end{matrix}\\right]$"
      ],
      "text/plain": [
       "Matrix([\n",
       "[ 9881/24080, -2351/24080, -13543/24080, 599/3440],\n",
       "[15259/24080, -3789/24080, -20997/24080, 901/3440],\n",
       "[  1495/4816,   -209/4816,   -1713/4816,   97/688],\n",
       "[ 5597/24080, -1707/24080,  -6571/24080, 203/3440]])"
      ]
     },
     "execution_count": 27,
     "metadata": {},
     "output_type": "execute_result"
    }
   ],
   "source": [
    "A_pseudoinverse"
   ]
  },
  {
   "cell_type": "code",
   "execution_count": null,
   "metadata": {
    "colab": {
     "base_uri": "https://localhost:8080/",
     "height": 98
    },
    "id": "K6fg9qoh9fsc",
    "outputId": "f43f566f-dfc0-4d92-cd2c-84d49006bb53"
   },
   "outputs": [
    {
     "data": {
      "text/latex": [
       "$\\displaystyle \\left[\\begin{matrix}0.4103 & -0.0976 & -0.5624 & 0.1741\\\\0.6337 & -0.1574 & -0.872 & 0.2619\\\\0.3104 & -0.0434 & -0.3557 & 0.141\\\\0.2324 & -0.0709 & -0.2729 & 0.059\\end{matrix}\\right]$"
      ],
      "text/plain": [
       "Matrix([\n",
       "[0.4103, -0.0976, -0.5624, 0.1741],\n",
       "[0.6337, -0.1574,  -0.872, 0.2619],\n",
       "[0.3104, -0.0434, -0.3557,  0.141],\n",
       "[0.2324, -0.0709, -0.2729,  0.059]])"
      ]
     },
     "execution_count": 28,
     "metadata": {},
     "output_type": "execute_result"
    }
   ],
   "source": [
    "round_expr(A_pseudoinverse,4)"
   ]
  },
  {
   "cell_type": "code",
   "execution_count": null,
   "metadata": {
    "id": "ca1p-H-V9-sX"
   },
   "outputs": [],
   "source": [
    "y = Matrix([7, 9, 5, 5])"
   ]
  },
  {
   "cell_type": "code",
   "execution_count": null,
   "metadata": {
    "colab": {
     "base_uri": "https://localhost:8080/",
     "height": 98
    },
    "id": "0-fBWAsE-pYa",
    "outputId": "f221d5cf-fc12-4a26-932b-63185d4df6a3"
   },
   "outputs": [
    {
     "data": {
      "text/latex": [
       "$\\displaystyle \\left[\\begin{matrix}7\\\\9\\\\5\\\\5\\end{matrix}\\right]$"
      ],
      "text/plain": [
       "Matrix([\n",
       "[7],\n",
       "[9],\n",
       "[5],\n",
       "[5]])"
      ]
     },
     "execution_count": 30,
     "metadata": {},
     "output_type": "execute_result"
    }
   ],
   "source": [
    "y"
   ]
  },
  {
   "cell_type": "code",
   "execution_count": null,
   "metadata": {
    "id": "-3c6__dE-LyT"
   },
   "outputs": [],
   "source": [
    "x = A_pseudoinverse*y"
   ]
  },
  {
   "cell_type": "markdown",
   "metadata": {
    "id": "kd0fpLx0wFXv"
   },
   "source": [
    "Полученное решение"
   ]
  },
  {
   "cell_type": "code",
   "execution_count": null,
   "metadata": {
    "colab": {
     "base_uri": "https://localhost:8080/",
     "height": 98
    },
    "id": "r97rUxsG-z5d",
    "outputId": "a9754382-1b0e-472a-a205-c5e864bcd1b4"
   },
   "outputs": [
    {
     "data": {
      "text/latex": [
       "$\\displaystyle \\left[\\begin{matrix}0.0522\\\\-0.0306\\\\0.7089\\\\-0.0803\\end{matrix}\\right]$"
      ],
      "text/plain": [
       "Matrix([\n",
       "[ 0.0522],\n",
       "[-0.0306],\n",
       "[ 0.7089],\n",
       "[-0.0803]])"
      ]
     },
     "execution_count": 32,
     "metadata": {},
     "output_type": "execute_result"
    }
   ],
   "source": [
    "round_expr(x,4)"
   ]
  },
  {
   "cell_type": "markdown",
   "metadata": {
    "id": "yoIlUZeLPP41"
   },
   "source": [
    "#Задание 3"
   ]
  },
  {
   "cell_type": "code",
   "execution_count": null,
   "metadata": {
    "id": "dfNaRC6lPkFZ"
   },
   "outputs": [],
   "source": [
    "x = symbols('x',real=True)"
   ]
  },
  {
   "cell_type": "markdown",
   "metadata": {
    "id": "9IS26VohwWsU"
   },
   "source": [
    "Даны 4 точки\n",
    "\n",
    "Интерполируем многочленом 3й степени\n",
    "\n",
    "Многочлен получим из линейной комбинации многочленов, построенных на основе абсцисс "
   ]
  },
  {
   "cell_type": "code",
   "execution_count": null,
   "metadata": {
    "id": "G8bIroQbPmJZ"
   },
   "outputs": [],
   "source": [
    "p1 = (x-1)*(x-2)*(x-3)/((0-1)*(0-2)*(0-3))"
   ]
  },
  {
   "cell_type": "code",
   "execution_count": null,
   "metadata": {
    "id": "IToSHK8SPmfF"
   },
   "outputs": [],
   "source": [
    "p2 = (x-0)*(x-2)*(x-3)/((1-0)*(1-2)*(1-3))"
   ]
  },
  {
   "cell_type": "code",
   "execution_count": null,
   "metadata": {
    "id": "gPzJkXJPYkhD"
   },
   "outputs": [],
   "source": [
    "p3 = (x-0)*(x-1)*(x-3)/((2-0)*(2-1)*(2-3))"
   ]
  },
  {
   "cell_type": "code",
   "execution_count": null,
   "metadata": {
    "id": "zfNgXzjNYkzB"
   },
   "outputs": [],
   "source": [
    "p4 = (x-0)*(x-1)*(x-2)/((3-0)*(3-1)*(3-2))"
   ]
  },
  {
   "cell_type": "markdown",
   "metadata": {
    "id": "SLU1t7GjyLoR"
   },
   "source": [
    "Готовые многочлены"
   ]
  },
  {
   "cell_type": "code",
   "execution_count": null,
   "metadata": {
    "colab": {
     "base_uri": "https://localhost:8080/"
    },
    "id": "jM4MZAKJZAHz",
    "outputId": "910a95bc-0202-4ee6-f3cf-7b24c79f409c"
   },
   "outputs": [
    {
     "name": "stdout",
     "output_type": "stream",
     "text": [
      "-(x - 3)*(x - 2)*(x - 1)/6\n",
      "x*(x - 3)*(x - 2)/2\n",
      "-x*(x - 3)*(x - 1)/2\n",
      "x*(x - 2)*(x - 1)/6\n"
     ]
    }
   ],
   "source": [
    "print(p1,p2,p3,p4,sep='\\n')"
   ]
  },
  {
   "cell_type": "markdown",
   "metadata": {
    "id": "gg5CgTBwyvvW"
   },
   "source": [
    "Веса берем из ординат"
   ]
  },
  {
   "cell_type": "code",
   "execution_count": null,
   "metadata": {
    "id": "oJViBXmXZcP-"
   },
   "outputs": [],
   "source": [
    "polynomial = simplify(10*p1-16*p2-9*p3-16*p4)"
   ]
  },
  {
   "cell_type": "markdown",
   "metadata": {
    "id": "SOmFaWSAy2v9"
   },
   "source": [
    "Интерполяционный многочлен"
   ]
  },
  {
   "cell_type": "code",
   "execution_count": null,
   "metadata": {
    "colab": {
     "base_uri": "https://localhost:8080/",
     "height": 38
    },
    "id": "BVFvrbyhZrsu",
    "outputId": "800f3469-9560-415c-b992-afdcb59876fd"
   },
   "outputs": [
    {
     "data": {
      "text/latex": [
       "$\\displaystyle - 7.8333 x^{3} + 40 x^{2} - 58.1667 x + 10$"
      ],
      "text/plain": [
       "-7.8333*x**3 + 40*x**2 - 58.1667*x + 10"
      ]
     },
     "execution_count": 40,
     "metadata": {},
     "output_type": "execute_result"
    }
   ],
   "source": [
    "round_expr(polynomial,4)"
   ]
  },
  {
   "cell_type": "code",
   "execution_count": null,
   "metadata": {
    "id": "ejN3UVftdymy"
   },
   "outputs": [],
   "source": [
    "#xdata для входа функции, ydata для выхода функции\n",
    "xdata = np.arange(-5, 5, 0.1)\n",
    "ydata = []"
   ]
  },
  {
   "cell_type": "code",
   "execution_count": null,
   "metadata": {
    "id": "ImG2EC1SchkJ"
   },
   "outputs": [],
   "source": [
    "#заполняем ydata\n",
    "for i in xdata:\n",
    "  ydata.append(polynomial.subs({x:i}))"
   ]
  },
  {
   "cell_type": "code",
   "execution_count": null,
   "metadata": {
    "colab": {
     "base_uri": "https://localhost:8080/",
     "height": 444
    },
    "id": "Ma_vC9QUfn62",
    "outputId": "9c4b621d-c962-490d-96d1-65b28bcbc309"
   },
   "outputs": [
    {
     "data": {
      "image/png": "[encoded data removed]",
      "text/plain": [
       "<Figure size 560x480 with 1 Axes>"
      ]
     },
     "metadata": {
      "needs_background": "light"
     },
     "output_type": "display_data"
    }
   ],
   "source": [
    "#рисуем\n",
    "plt.figure(figsize=(7, 6), dpi=80)\n",
    "plt.plot(xdata, ydata, color ='tab:blue')\n",
    "plt.plot(0,10, 'mo',markersize=10)\n",
    "plt.plot(1, -16, 'mo',markersize=10)\n",
    "plt.plot(2, -9, 'mo',markersize=10)\n",
    "plt.plot(3, -16, 'mo',markersize=10)\n",
    "plt.xlim([-2, 4])\n",
    "plt.ylim([-20, 15])\n",
    "plt.title('Lagrange interpolation polynomial')\n",
    "plt.grid(axis = 'both')\n",
    "plt.xlabel('x')\n",
    "plt.ylabel('y')\n",
    "plt.show()"
   ]
  },
  {
   "cell_type": "markdown",
   "metadata": {
    "id": "t1RaYxIpv1n2"
   },
   "source": [
    "#Задание 4"
   ]
  },
  {
   "cell_type": "code",
   "execution_count": null,
   "metadata": {
    "id": "jjXmaSMBB8_u"
   },
   "outputs": [],
   "source": [
    "#даны 4 точки\n",
    "points = np.array([[3,4],[5,4],[7,0],[8,2]])"
   ]
  },
  {
   "cell_type": "code",
   "execution_count": null,
   "metadata": {
    "id": "vJTwCa7Kv-rU"
   },
   "outputs": [],
   "source": [
    "P0, P1, P2, P3 = points"
   ]
  },
  {
   "cell_type": "code",
   "execution_count": null,
   "metadata": {
    "id": "7OikHEUv3E0a"
   },
   "outputs": [],
   "source": [
    "t = symbols('t')"
   ]
  },
  {
   "cell_type": "markdown",
   "metadata": {
    "id": "ISqfcd1B1pNn"
   },
   "source": [
    "Используем формулу для кривой Безье"
   ]
  },
  {
   "cell_type": "code",
   "execution_count": null,
   "metadata": {
    "id": "ZLug5gtW3ic_"
   },
   "outputs": [],
   "source": [
    " bezier_function = (1-t)**3*P0+3*(1-t)**2*t*P1+3*(1-t)*t**2*P2+t**3*P3"
   ]
  },
  {
   "cell_type": "code",
   "execution_count": null,
   "metadata": {
    "id": "xFQTCuP-5SnF"
   },
   "outputs": [],
   "source": [
    "bezier_function = simplify(bezier_function)"
   ]
  },
  {
   "cell_type": "markdown",
   "metadata": {
    "id": "yWuUMXIb16H8"
   },
   "source": [
    "Получаем x(t), y(t)"
   ]
  },
  {
   "cell_type": "code",
   "execution_count": null,
   "metadata": {
    "colab": {
     "base_uri": "https://localhost:8080/",
     "height": 38
    },
    "id": "AUizndg66dWX",
    "outputId": "a109661b-7359-4e9b-9688-38b1b1e6cac4"
   },
   "outputs": [
    {
     "data": {
      "text/latex": [
       "$\\displaystyle \\left[\\begin{matrix}- t^{3} + 6 t + 3 & 10 t^{3} - 12 t^{2} + 4\\end{matrix}\\right]$"
      ],
      "text/plain": [
       "[-t**3 + 6*t + 3, 10*t**3 - 12*t**2 + 4]"
      ]
     },
     "execution_count": 49,
     "metadata": {},
     "output_type": "execute_result"
    }
   ],
   "source": [
    "bezier_function"
   ]
  },
  {
   "cell_type": "code",
   "execution_count": null,
   "metadata": {
    "colab": {
     "base_uri": "https://localhost:8080/",
     "height": 56
    },
    "id": "OpzggnCU7IJb",
    "outputId": "ddfa41f9-e6e0-42c7-c768-c5abdb70602b"
   },
   "outputs": [
    {
     "name": "stdout",
     "output_type": "stream",
     "text": [
      "x(t):\n"
     ]
    },
    {
     "data": {
      "text/latex": [
       "$\\displaystyle - t^{3} + 6 t + 3$"
      ],
      "text/plain": [
       "-t**3 + 6*t + 3"
      ]
     },
     "execution_count": 50,
     "metadata": {},
     "output_type": "execute_result"
    }
   ],
   "source": [
    "print('x(t):')\n",
    "bezier_function[0]"
   ]
  },
  {
   "cell_type": "code",
   "execution_count": null,
   "metadata": {
    "colab": {
     "base_uri": "https://localhost:8080/",
     "height": 56
    },
    "id": "fjNm0qoY7tX3",
    "outputId": "c4f74f24-4c43-4f3d-f63a-f75596470b2c"
   },
   "outputs": [
    {
     "name": "stdout",
     "output_type": "stream",
     "text": [
      "y(t):\n"
     ]
    },
    {
     "data": {
      "text/latex": [
       "$\\displaystyle 10 t^{3} - 12 t^{2} + 4$"
      ],
      "text/plain": [
       "10*t**3 - 12*t**2 + 4"
      ]
     },
     "execution_count": 51,
     "metadata": {},
     "output_type": "execute_result"
    }
   ],
   "source": [
    "print('y(t):')\n",
    "bezier_function[1]"
   ]
  },
  {
   "cell_type": "code",
   "execution_count": null,
   "metadata": {
    "id": "W4-S1kBq_2JH"
   },
   "outputs": [],
   "source": [
    "xdata, ydata = [],[]\n",
    "udata=[]"
   ]
  },
  {
   "cell_type": "code",
   "execution_count": null,
   "metadata": {
    "id": "XPJVnbV77x7h"
   },
   "outputs": [],
   "source": [
    "#устанавливаем пары x-y при t на промежутке [0,1]\n",
    "for i in np.arange(0,1.1,0.1):\n",
    "  xdata.append(bezier_function.subs({t:i})[0])\n",
    "  ydata.append(bezier_function.subs({t:i})[1])\n",
    "  udata.append([bezier_function.subs({t:i})[0],bezier_function.subs({t:i})[1]])"
   ]
  },
  {
   "cell_type": "code",
   "execution_count": null,
   "metadata": {
    "colab": {
     "base_uri": "https://localhost:8080/",
     "height": 444
    },
    "id": "2eS3-d5_93Go",
    "outputId": "9763ee39-af9d-435d-c14a-b7515f2cf052"
   },
   "outputs": [
    {
     "data": {
      "image/png": "[encoded data removed]",
      "text/plain": [
       "<Figure size 560x480 with 1 Axes>"
      ]
     },
     "metadata": {
      "needs_background": "light"
     },
     "output_type": "display_data"
    }
   ],
   "source": [
    "#рисуем\n",
    "plt.figure(figsize=(7, 6), dpi=80)\n",
    "plt.plot(xdata, ydata, color ='tab:blue')\n",
    "plt.plot(points[[0,2,3],0],points[[0,2,3],1], color ='tab:orange')\n",
    "plt.plot(points[[0,1,3],0],points[[0,1,3],1], color ='tab:orange')\n",
    "plt.plot(3,4, 'mo',markersize=10)\n",
    "plt.plot(5,4, 'mo',markersize=10)\n",
    "plt.plot(7,0, 'mo',markersize=10)\n",
    "plt.plot(8,2, 'mo',markersize=10)\n",
    "plt.xlim([2, 9])\n",
    "plt.ylim([-2,10])\n",
    "plt.title('Bezier curve')\n",
    "plt.grid(axis = 'both')\n",
    "plt.xlabel('x')\n",
    "plt.ylabel('y')\n",
    "plt.show()"
   ]
  },
  {
   "cell_type": "markdown",
   "metadata": {
    "id": "uvN4Pfx8DfhS"
   },
   "source": [
    "#Задание 5"
   ]
  },
  {
   "cell_type": "markdown",
   "metadata": {
    "id": "Qz-geh7I5U90"
   },
   "source": [
    "Дана f на [1,3]\n",
    "\n",
    "По указанной норме наименее уклоняющийся от нуля многочлен 3й степени на [-1,1] это многочлен Чебышева 2го вида $\\bar{U}_3$\n",
    "\n",
    "Сдвигаем его на [1,3] и получаем $\\tilde{V}_3$"
   ]
  },
  {
   "cell_type": "markdown",
   "metadata": {
    "id": "Xb-d0KEswCMK"
   },
   "source": [
    "$f = x^3+2x^2+4x+4$"
   ]
  },
  {
   "cell_type": "markdown",
   "metadata": {
    "id": "hVyfRUN9wR55"
   },
   "source": [
    "$\\bar{U}_3(x)=8x^3-4x$"
   ]
  },
  {
   "cell_type": "markdown",
   "metadata": {
    "id": "Hii2J50Cxvvg"
   },
   "source": [
    "$\\tilde{V}_3 = 8(x-2)^3-4(x-2)=8x^3-48x^2+92x-56$\n"
   ]
  },
  {
   "cell_type": "markdown",
   "metadata": {
    "id": "Bu7u3kPc7RdI"
   },
   "source": [
    "Необходимо минимизировать g(x), где a,b,c искомые коэффициенты трехчлена\n",
    "\n",
    "Для этого приравняем коэффициенты g(x) и $\\tilde{V}_3$"
   ]
  },
  {
   "cell_type": "markdown",
   "metadata": {
    "id": "mrJVd7K28-vA"
   },
   "source": [
    "$g(x)=x^3+2x^2+4x+4-ax^2-bx-c=x^3+(2-a)x^2+(4-b)x+4-c$"
   ]
  },
  {
   "cell_type": "markdown",
   "metadata": {
    "id": "wdiHh7Ow-eZS"
   },
   "source": [
    "\\begin{equation}\n",
    "    \\begin{cases}\n",
    "      8(2-a)=-48\\\\\n",
    "      8(4-b)=92\\\\\n",
    "      8(4-c)=-56\n",
    "    \\end{cases}\\\n",
    "\\end{equation}"
   ]
  },
  {
   "cell_type": "code",
   "execution_count": null,
   "metadata": {
    "id": "NPjUx2DmwQds"
   },
   "outputs": [],
   "source": [
    "a, b, c = symbols('a b c')"
   ]
  },
  {
   "cell_type": "code",
   "execution_count": null,
   "metadata": {
    "colab": {
     "base_uri": "https://localhost:8080/"
    },
    "id": "4ppmVLQ_DoQB",
    "outputId": "486d8fa2-9a8a-496c-b383-40ec848eee56"
   },
   "outputs": [
    {
     "data": {
      "text/plain": [
       "{a: 8, b: -15/2, c: 11}"
      ]
     },
     "execution_count": 56,
     "metadata": {},
     "output_type": "execute_result"
    }
   ],
   "source": [
    "#решаем систему\n",
    "solve((8*(2-a)+48,8*(4-b)-92,8*(4-c)+56))"
   ]
  },
  {
   "cell_type": "markdown",
   "metadata": {
    "id": "Q1FD8o8wClvg"
   },
   "source": [
    "$8x^2-7.5x+11$"
   ]
  },
  {
   "cell_type": "markdown",
   "metadata": {
    "id": "RRE2XduhDXct"
   },
   "source": [
    "#Задание 6"
   ]
  },
  {
   "cell_type": "markdown",
   "metadata": {
    "id": "v0u-YImm9LIo"
   },
   "source": [
    "Находим, насколько вектор b отклоняется от истинного b в случае решения (1,1)\n",
    "\n",
    "Находим число обусловленности\n",
    "\n",
    "Оцениваем относительную погрешность x через относительную погрешность b и число обусловленности"
   ]
  },
  {
   "cell_type": "code",
   "execution_count": null,
   "metadata": {
    "id": "qfGXS6wcDcyN"
   },
   "outputs": [],
   "source": [
    "#матрица A\n",
    "A = Matrix([\n",
    "            [-2.99,0.1],\n",
    "            [1.94,-3.95]\n",
    "])"
   ]
  },
  {
   "cell_type": "code",
   "execution_count": null,
   "metadata": {
    "id": "piLJy22mDdMG"
   },
   "outputs": [],
   "source": [
    "#истинный b\n",
    "b = Matrix([-3.1,-2.1])"
   ]
  },
  {
   "cell_type": "code",
   "execution_count": null,
   "metadata": {
    "id": "caAmLCGvDdXe"
   },
   "outputs": [],
   "source": [
    "#приближенный x\n",
    "x_bar = Matrix([1,1])"
   ]
  },
  {
   "cell_type": "code",
   "execution_count": null,
   "metadata": {
    "id": "QQ4AeRLaDdiM"
   },
   "outputs": [],
   "source": [
    "#приближенный b при решении (1,1)\n",
    "b_delta = b - A*x_bar"
   ]
  },
  {
   "cell_type": "code",
   "execution_count": null,
   "metadata": {
    "id": "QCzYcll9Dd9P"
   },
   "outputs": [],
   "source": [
    "#норма 1 b \n",
    "norm1_b = abs(b[0]) + abs(b[1])"
   ]
  },
  {
   "cell_type": "code",
   "execution_count": null,
   "metadata": {
    "id": "e5nh_StSIDwa"
   },
   "outputs": [],
   "source": [
    "#норма 2 b\n",
    "norm2_b = sqrt(b[0]**2 + b[1]**2)"
   ]
  },
  {
   "cell_type": "code",
   "execution_count": null,
   "metadata": {
    "id": "34IRxoTAIEF2"
   },
   "outputs": [],
   "source": [
    "#норма 1 delta b\n",
    "norm1_b_delta = abs(b_delta[0]) + abs(b_delta[1])"
   ]
  },
  {
   "cell_type": "code",
   "execution_count": null,
   "metadata": {
    "id": "ADJd7NlZIEOT"
   },
   "outputs": [],
   "source": [
    "#норма 2 delta b\n",
    "norm2_b_delta = sqrt(b_delta[0]**2 + b_delta[1]**2)"
   ]
  },
  {
   "cell_type": "code",
   "execution_count": null,
   "metadata": {
    "id": "LdRDj0FFJHzg"
   },
   "outputs": [],
   "source": [
    "#относительная погрешность b по норме 1\n",
    "err_b_norm1 = norm1_b_delta / norm1_b"
   ]
  },
  {
   "cell_type": "code",
   "execution_count": null,
   "metadata": {
    "id": "08u70wF2Jd9W"
   },
   "outputs": [],
   "source": [
    "#относительная погрешность b по норме 2\n",
    "err_b_norm2 = norm2_b_delta / norm2_b"
   ]
  },
  {
   "cell_type": "code",
   "execution_count": null,
   "metadata": {
    "colab": {
     "base_uri": "https://localhost:8080/"
    },
    "id": "o3l236GKJJPe",
    "outputId": "a684d1ce-31fe-40bc-8f3c-aa703592713e"
   },
   "outputs": [
    {
     "name": "stdout",
     "output_type": "stream",
     "text": [
      "0.0576923076923077 \n",
      " 0.0610184602922236\n"
     ]
    }
   ],
   "source": [
    "print(err_b_norm1,'\\n',err_b_norm2)"
   ]
  },
  {
   "cell_type": "markdown",
   "metadata": {
    "id": "YqwLw1djAfdx"
   },
   "source": [
    "Находим cond(A) по норме 2\n",
    "\n",
    "Для этого найдем сингулярные значения B = А'A"
   ]
  },
  {
   "cell_type": "code",
   "execution_count": null,
   "metadata": {
    "id": "LpXIoiaCLUp3"
   },
   "outputs": [],
   "source": [
    "B = A.T * A"
   ]
  },
  {
   "cell_type": "code",
   "execution_count": null,
   "metadata": {
    "colab": {
     "base_uri": "https://localhost:8080/",
     "height": 58
    },
    "id": "Tf3bztyOLeRW",
    "outputId": "23a16d31-333d-42d7-8fcc-24f2101d5934"
   },
   "outputs": [
    {
     "data": {
      "text/latex": [
       "$\\displaystyle \\left[\\begin{matrix}12.7037 & -7.962\\\\-7.962 & 15.6125\\end{matrix}\\right]$"
      ],
      "text/plain": [
       "Matrix([\n",
       "[12.7037,  -7.962],\n",
       "[ -7.962, 15.6125]])"
      ]
     },
     "execution_count": 69,
     "metadata": {},
     "output_type": "execute_result"
    }
   ],
   "source": [
    "B"
   ]
  },
  {
   "cell_type": "code",
   "execution_count": null,
   "metadata": {
    "id": "oDfJNTHRLeZA"
   },
   "outputs": [],
   "source": [
    "v = symbols('lambda')"
   ]
  },
  {
   "cell_type": "code",
   "execution_count": null,
   "metadata": {
    "id": "7n41b75qLVEP"
   },
   "outputs": [],
   "source": [
    "#решаем det(B-λI)=0\n",
    "eq = Eq((B[0,0]-v) * (B[1,1]-v) - B[1,0] * B[0,1],0)"
   ]
  },
  {
   "cell_type": "code",
   "execution_count": null,
   "metadata": {
    "id": "CLCVb8hoNmHD"
   },
   "outputs": [],
   "source": [
    "sol = solve((eq),v)"
   ]
  },
  {
   "cell_type": "markdown",
   "metadata": {
    "id": "dAMdcRupB_sx"
   },
   "source": [
    "Сингулярные значения А'A"
   ]
  },
  {
   "cell_type": "code",
   "execution_count": null,
   "metadata": {
    "colab": {
     "base_uri": "https://localhost:8080/"
    },
    "id": "6uRyCzIuNtvW",
    "outputId": "f8a3e8b4-47e4-4a56-ae68-6e0b094745e8"
   },
   "outputs": [
    {
     "data": {
      "text/plain": [
       "[6.06435405884272, 22.2518459411573]"
      ]
     },
     "execution_count": 73,
     "metadata": {},
     "output_type": "execute_result"
    }
   ],
   "source": [
    "sol"
   ]
  },
  {
   "cell_type": "code",
   "execution_count": null,
   "metadata": {
    "id": "e_c2PM8jM0Tz"
   },
   "outputs": [],
   "source": [
    "cond_A_norm2 = sqrt(max(sol)/min(sol))"
   ]
  },
  {
   "cell_type": "markdown",
   "metadata": {
    "id": "p5_dx4MWCHcq"
   },
   "source": [
    "Cond(A) по норме 2"
   ]
  },
  {
   "cell_type": "code",
   "execution_count": null,
   "metadata": {
    "colab": {
     "base_uri": "https://localhost:8080/",
     "height": 37
    },
    "id": "s0gXKzfrd_lB",
    "outputId": "c7d6a811-31ee-4531-d8b2-79d7a4b58d9b"
   },
   "outputs": [
    {
     "data": {
      "text/latex": [
       "$\\displaystyle 1.91553789361316$"
      ],
      "text/plain": [
       "1.91553789361316"
      ]
     },
     "execution_count": 75,
     "metadata": {},
     "output_type": "execute_result"
    }
   ],
   "source": [
    "cond_A_norm2"
   ]
  },
  {
   "cell_type": "markdown",
   "metadata": {
    "id": "3wc73N-8CXra"
   },
   "source": [
    "Находим cond(A) по норме 1"
   ]
  },
  {
   "cell_type": "code",
   "execution_count": null,
   "metadata": {
    "id": "qh8-i2GqgCk_"
   },
   "outputs": [],
   "source": [
    "A_inverse = Inverse(A)"
   ]
  },
  {
   "cell_type": "code",
   "execution_count": null,
   "metadata": {
    "id": "75VyBJ6LgEGd"
   },
   "outputs": [],
   "source": [
    "norm1_A = max(abs(A[0,0]) + abs(A[1,0]),abs(A[0,1]) + abs(A[1,1]))"
   ]
  },
  {
   "cell_type": "code",
   "execution_count": null,
   "metadata": {
    "id": "OyKR00cJgY6H"
   },
   "outputs": [],
   "source": [
    "norm1_A_inverse = max(abs(A_inverse[0,0]) + abs(A_inverse[1,0]),abs(A_inverse[0,1]) + abs(A_inverse[1,1]))"
   ]
  },
  {
   "cell_type": "code",
   "execution_count": null,
   "metadata": {
    "id": "RXIFL7rzebIj"
   },
   "outputs": [],
   "source": [
    "cond_A_norm1 = norm1_A * norm1_A_inverse"
   ]
  },
  {
   "cell_type": "markdown",
   "metadata": {
    "id": "97uQtGOPCisp"
   },
   "source": [
    "Cond(A) по норме 1"
   ]
  },
  {
   "cell_type": "code",
   "execution_count": null,
   "metadata": {
    "colab": {
     "base_uri": "https://localhost:8080/",
     "height": 37
    },
    "id": "uK9Kha1LCmkw",
    "outputId": "4c23388e-bb3b-483f-fa3f-07b461080797"
   },
   "outputs": [
    {
     "data": {
      "text/latex": [
       "$\\displaystyle 2.4996944002066$"
      ],
      "text/plain": [
       "2.49969440020660"
      ]
     },
     "execution_count": 80,
     "metadata": {},
     "output_type": "execute_result"
    }
   ],
   "source": [
    "cond_A_norm1"
   ]
  },
  {
   "cell_type": "code",
   "execution_count": null,
   "metadata": {
    "id": "iXeqbm8QhO3l"
   },
   "outputs": [],
   "source": [
    "err_x_norm1 = [1 / cond_A_norm1 * err_b_norm1,cond_A_norm1 * err_b_norm1]"
   ]
  },
  {
   "cell_type": "code",
   "execution_count": null,
   "metadata": {
    "id": "Dn_Qp59bhQwW"
   },
   "outputs": [],
   "source": [
    "err_x_norm2 = [1 / cond_A_norm2 * err_b_norm2,cond_A_norm2 * err_b_norm2]"
   ]
  },
  {
   "cell_type": "markdown",
   "metadata": {
    "id": "mwILODEGEr9E"
   },
   "source": [
    "Относительная погрешность (1,1) по норме 1"
   ]
  },
  {
   "cell_type": "code",
   "execution_count": null,
   "metadata": {
    "colab": {
     "base_uri": "https://localhost:8080/"
    },
    "id": "yhjIL65yhQ4T",
    "outputId": "4297c3a5-cf0e-48f7-fbaa-4db653e5fad6"
   },
   "outputs": [
    {
     "data": {
      "text/plain": [
       "[0.0230797443429642, 0.144213138473458]"
      ]
     },
     "execution_count": 83,
     "metadata": {},
     "output_type": "execute_result"
    }
   ],
   "source": [
    "err_x_norm1"
   ]
  },
  {
   "cell_type": "markdown",
   "metadata": {
    "id": "J8PY4QtMEzT0"
   },
   "source": [
    "Относительная погрешность (1,1) по норме 2"
   ]
  },
  {
   "cell_type": "code",
   "execution_count": null,
   "metadata": {
    "colab": {
     "base_uri": "https://localhost:8080/"
    },
    "id": "BuXgNd45hQ_P",
    "outputId": "63f47ab9-fba0-49f6-fa47-4f4d83f223d6"
   },
   "outputs": [
    {
     "data": {
      "text/plain": [
       "[0.0318544783142495, 0.116883172899684]"
      ]
     },
     "execution_count": 84,
     "metadata": {},
     "output_type": "execute_result"
    }
   ],
   "source": [
    "err_x_norm2"
   ]
  },
  {
   "cell_type": "markdown",
   "metadata": {
    "id": "w8cywqRxDg8c"
   },
   "source": [
    "#Задание 7"
   ]
  },
  {
   "cell_type": "markdown",
   "metadata": {
    "id": "hxn4NV64NojL"
   },
   "source": [
    "$f(x)=\\sqrt{3x+6}\\qquad [2,6]$"
   ]
  },
  {
   "cell_type": "markdown",
   "metadata": {
    "id": "IBxzbUwpJsNH"
   },
   "source": [
    "Воспользуемся формулой приближения $f(x)$\n",
    "\\begin{equation}\n",
    "\\tilde{f}(x) = \\sum_{i=0}^{n}\\frac{\\langle T_i,f \\rangle} {\\langle T_i,T_i\\rangle}T_i(x)\n",
    "\\end{equation}\n",
    "\n",
    "Скалярное произведение находим по норме"
   ]
  },
  {
   "cell_type": "code",
   "execution_count": null,
   "metadata": {
    "id": "ErHt0KI4SY33"
   },
   "outputs": [],
   "source": [
    "#функция многочлена Чебышева 1го вида n степени на [1,1]\n",
    "def cheb(x, n):\n",
    "  if n==0:\n",
    "    return 1\n",
    "  elif n == 1:\n",
    "    return x\n",
    "  else:\n",
    "     return 2*x*cheb(x,n-1)-cheb(x,n-2)"
   ]
  },
  {
   "cell_type": "code",
   "execution_count": null,
   "metadata": {
    "id": "5skdEL_UTayP"
   },
   "outputs": [],
   "source": [
    "a = 2\n",
    "b = 6"
   ]
  },
  {
   "cell_type": "code",
   "execution_count": null,
   "metadata": {
    "id": "e7gp7PSsVoDO"
   },
   "outputs": [],
   "source": [
    "#функция многочлена Чебышева 1го вида n степени на [a,b]\n",
    "def cheb_mod(x,n):\n",
    "  return cheb((2*x-(b+a))/(b-a),n)"
   ]
  },
  {
   "cell_type": "code",
   "execution_count": null,
   "metadata": {
    "id": "VqTUsGeRTjzC"
   },
   "outputs": [],
   "source": [
    "#функция веса\n",
    "def weight(x):\n",
    "  return 1/(sqrt(1-(2*x-8)**2/16))"
   ]
  },
  {
   "cell_type": "code",
   "execution_count": null,
   "metadata": {
    "id": "qUPPWg_aU0Ro"
   },
   "outputs": [],
   "source": [
    "#функция для приближения\n",
    "def f(x,n):\n",
    "  return sqrt(3*x+6)"
   ]
  },
  {
   "cell_type": "code",
   "execution_count": null,
   "metadata": {
    "id": "nZmAmnf9REsj"
   },
   "outputs": [],
   "source": [
    "#функция скалярного произведения исходя из нормы\n",
    "def inner_product(p,q,n):\n",
    "  u = np.linspace(2,6,1000)[1:][:-1]\n",
    "  t = []\n",
    "  for i in u:\n",
    "    t.append(p(i,n)*q(i,n)*weight(i))\n",
    "  return np.trapz(t,u)"
   ]
  },
  {
   "cell_type": "code",
   "execution_count": null,
   "metadata": {
    "id": "39KVniurpBg_"
   },
   "outputs": [],
   "source": [
    "q = symbols('q')"
   ]
  },
  {
   "cell_type": "code",
   "execution_count": null,
   "metadata": {
    "id": "EdGV3Kp2pOc6"
   },
   "outputs": [],
   "source": [
    "polynom = 0\n",
    "for i in range(4):\n",
    "  polynom += inner_product(cheb_mod,f,i)/inner_product(cheb_mod,cheb_mod,i)*cheb_mod(q,i)"
   ]
  },
  {
   "cell_type": "markdown",
   "metadata": {
    "id": "tibWD0pfPruO"
   },
   "source": [
    "Аппроксимирующий многочлен"
   ]
  },
  {
   "cell_type": "code",
   "execution_count": null,
   "metadata": {
    "colab": {
     "base_uri": "https://localhost:8080/",
     "height": 38
    },
    "id": "G_-eLpeustF9",
    "outputId": "bda96925-25a8-41ad-b1bb-0ff771a4888e"
   },
   "outputs": [
    {
     "data": {
      "text/latex": [
       "$\\displaystyle - 0.0290884780384603 q^{3} + 0.153790106244348 q^{2} + 0.610473363523592 q + 1.56330540339041$"
      ],
      "text/plain": [
       "-0.0290884780384603*q**3 + 0.153790106244348*q**2 + 0.610473363523592*q + 1.56330540339041"
      ]
     },
     "execution_count": 93,
     "metadata": {},
     "output_type": "execute_result"
    }
   ],
   "source": [
    "simplify(polynom)"
   ]
  },
  {
   "cell_type": "code",
   "execution_count": null,
   "metadata": {
    "id": "hJJWreSasuDd"
   },
   "outputs": [],
   "source": [
    "#устанавливаем пары x-y для двух функции и ее приближения\n",
    "ydata = []\n",
    "y1data = []\n",
    "u = np.linspace(2,6,1000)\n",
    "for i in u:\n",
    "  ydata.append(f(i,1))\n",
    "  y1data.append(polynom.subs({q:i}))"
   ]
  },
  {
   "cell_type": "code",
   "execution_count": null,
   "metadata": {
    "colab": {
     "base_uri": "https://localhost:8080/",
     "height": 689
    },
    "id": "arw65KOQtpor",
    "outputId": "e0fc63b9-16d9-4368-d09c-875afe4e3cb5"
   },
   "outputs": [
    {
     "data": {
      "image/png": "[encoded data removed]",
      "text/plain": [
       "<Figure size 800x800 with 1 Axes>"
      ]
     },
     "metadata": {
      "needs_background": "light"
     },
     "output_type": "display_data"
    }
   ],
   "source": [
    "#рисуем\n",
    "plt.figure(figsize=(8,8), dpi=100)\n",
    "plt.plot(u, ydata, color ='tab:blue')\n",
    "plt.plot(u, y1data, color ='tab:orange')\n",
    "plt.legend(['$f=\\sqrt{3x+6}$','approximation'], loc =\"lower right\")\n",
    "plt.xlim([0, 8])\n",
    "plt.ylim([2, 7])\n",
    "plt.grid(axis = 'both')\n",
    "plt.xlabel('x')\n",
    "plt.ylabel('y')\n",
    "plt.show()"
   ]
  }
 ],
 "metadata": {
  "colab": {
   "collapsed_sections": [],
   "name": "Lin",
   "provenance": []
  },
  "kernelspec": {
   "display_name": "Python 3",
   "language": "python",
   "name": "python3"
  },
  "language_info": {
   "codemirror_mode": {
    "name": "ipython",
    "version": 3
   },
   "file_extension": ".py",
   "mimetype": "text/x-python",
   "name": "python",
   "nbconvert_exporter": "python",
   "pygments_lexer": "ipython3",
   "version": "3.8.0"
  }
 },
 "nbformat": 4,
 "nbformat_minor": 1
}
